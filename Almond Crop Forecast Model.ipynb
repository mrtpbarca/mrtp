{
  "nbformat": 4,
  "nbformat_minor": 0,
  "metadata": {
    "colab": {
      "name": "Untitled3.ipynb",
      "provenance": [],
      "collapsed_sections": [],
      "authorship_tag": "ABX9TyP9SF+ptQf0Avrn80Y6IDoe",
      "include_colab_link": true
    },
    "kernelspec": {
      "name": "python3",
      "display_name": "Python 3"
    }
  },
  "cells": [
    {
      "cell_type": "markdown",
      "metadata": {
        "id": "view-in-github",
        "colab_type": "text"
      },
      "source": [
        "<a href=\"https://colab.research.google.com/github/mrtpbarca/mrtp/blob/main/Almond%20Crop%20Forecast%20Model.ipynb\" target=\"_parent\"><img src=\"https://colab.research.google.com/assets/colab-badge.svg\" alt=\"Open In Colab\"/></a>"
      ]
    },
    {
      "cell_type": "markdown",
      "metadata": {
        "id": "rKbepsd2UGYg"
      },
      "source": [
        "Almond crop forecast model "
      ]
    },
    {
      "cell_type": "code",
      "metadata": {
        "id": "g4vlWydpT_WA"
      },
      "source": [
        "# Import basic libraries\r\n",
        "import pandas as pd\r\n",
        "import numpy as np\r\n",
        "import matplotlib.pyplot as plt"
      ],
      "execution_count": 68,
      "outputs": []
    },
    {
      "cell_type": "code",
      "metadata": {
        "id": "KmJirBDJVtr4"
      },
      "source": [
        "# Read data from Github repository\r\n",
        "Gitpath='https://raw.githubusercontent.com/mrtpbarca/mrtp/main/data.csv'\r\n",
        "df=pd.read_csv(Gitpath)"
      ],
      "execution_count": 69,
      "outputs": []
    },
    {
      "cell_type": "code",
      "metadata": {
        "colab": {
          "base_uri": "https://localhost:8080/",
          "height": 204
        },
        "id": "3CFHhzrSa4qQ",
        "outputId": "6c7b9229-26ce-4414-9477-9bcb059bc9d7"
      },
      "source": [
        "# Drop last column with no data and show first 5 rows\r\n",
        "df.head()"
      ],
      "execution_count": 71,
      "outputs": [
        {
          "output_type": "execute_result",
          "data": {
            "text/html": [
              "<div>\n",
              "<style scoped>\n",
              "    .dataframe tbody tr th:only-of-type {\n",
              "        vertical-align: middle;\n",
              "    }\n",
              "\n",
              "    .dataframe tbody tr th {\n",
              "        vertical-align: top;\n",
              "    }\n",
              "\n",
              "    .dataframe thead th {\n",
              "        text-align: right;\n",
              "    }\n",
              "</style>\n",
              "<table border=\"1\" class=\"dataframe\">\n",
              "  <thead>\n",
              "    <tr style=\"text-align: right;\">\n",
              "      <th></th>\n",
              "      <th>Year</th>\n",
              "      <th>Bearing acres</th>\n",
              "      <th>Trees per acre</th>\n",
              "      <th>Metric Tons</th>\n",
              "      <th>Million Lbs</th>\n",
              "      <th>Billion Lbs</th>\n",
              "      <th>Lbs. per acre</th>\n",
              "      <th>dollars</th>\n",
              "      <th>1,000 dollars</th>\n",
              "    </tr>\n",
              "  </thead>\n",
              "  <tbody>\n",
              "    <tr>\n",
              "      <th>0</th>\n",
              "      <td>1987</td>\n",
              "      <td>417000.0</td>\n",
              "      <td>84.0</td>\n",
              "      <td>299000.0</td>\n",
              "      <td>660.0</td>\n",
              "      <td>0.66</td>\n",
              "      <td>1580.0</td>\n",
              "      <td>1.00</td>\n",
              "      <td>648000.0</td>\n",
              "    </tr>\n",
              "    <tr>\n",
              "      <th>1</th>\n",
              "      <td>1988</td>\n",
              "      <td>419000.0</td>\n",
              "      <td>86.3</td>\n",
              "      <td>268000.0</td>\n",
              "      <td>590.0</td>\n",
              "      <td>0.59</td>\n",
              "      <td>1410.0</td>\n",
              "      <td>1.05</td>\n",
              "      <td>600075.0</td>\n",
              "    </tr>\n",
              "    <tr>\n",
              "      <th>2</th>\n",
              "      <td>1989</td>\n",
              "      <td>411000.0</td>\n",
              "      <td>87.3</td>\n",
              "      <td>222000.0</td>\n",
              "      <td>490.0</td>\n",
              "      <td>0.49</td>\n",
              "      <td>1190.0</td>\n",
              "      <td>1.02</td>\n",
              "      <td>480930.0</td>\n",
              "    </tr>\n",
              "    <tr>\n",
              "      <th>3</th>\n",
              "      <td>1990</td>\n",
              "      <td>411000.0</td>\n",
              "      <td>88.4</td>\n",
              "      <td>299000.0</td>\n",
              "      <td>660.0</td>\n",
              "      <td>0.66</td>\n",
              "      <td>1610.0</td>\n",
              "      <td>0.93</td>\n",
              "      <td>597990.0</td>\n",
              "    </tr>\n",
              "    <tr>\n",
              "      <th>4</th>\n",
              "      <td>1991</td>\n",
              "      <td>405000.0</td>\n",
              "      <td>89.6</td>\n",
              "      <td>222000.0</td>\n",
              "      <td>490.0</td>\n",
              "      <td>0.49</td>\n",
              "      <td>1210.0</td>\n",
              "      <td>1.19</td>\n",
              "      <td>564179.0</td>\n",
              "    </tr>\n",
              "  </tbody>\n",
              "</table>\n",
              "</div>"
            ],
            "text/plain": [
              "   Year   Bearing acres  Trees per acre  ...  Lbs. per acre  dollars  1,000 dollars\n",
              "0   1987       417000.0            84.0  ...         1580.0     1.00       648000.0\n",
              "1   1988       419000.0            86.3  ...         1410.0     1.05       600075.0\n",
              "2   1989       411000.0            87.3  ...         1190.0     1.02       480930.0\n",
              "3   1990       411000.0            88.4  ...         1610.0     0.93       597990.0\n",
              "4   1991       405000.0            89.6  ...         1210.0     1.19       564179.0\n",
              "\n",
              "[5 rows x 9 columns]"
            ]
          },
          "metadata": {
            "tags": []
          },
          "execution_count": 71
        }
      ]
    },
    {
      "cell_type": "code",
      "metadata": {
        "colab": {
          "base_uri": "https://localhost:8080/",
          "height": 297
        },
        "id": "5UZE-NBxbCy-",
        "outputId": "cd67c5cb-7d4f-47fa-b655-7306809f4933"
      },
      "source": [
        "# Describe the dataset\r\n",
        "df.describe(exclude=None)"
      ],
      "execution_count": 72,
      "outputs": [
        {
          "output_type": "execute_result",
          "data": {
            "text/html": [
              "<div>\n",
              "<style scoped>\n",
              "    .dataframe tbody tr th:only-of-type {\n",
              "        vertical-align: middle;\n",
              "    }\n",
              "\n",
              "    .dataframe tbody tr th {\n",
              "        vertical-align: top;\n",
              "    }\n",
              "\n",
              "    .dataframe thead th {\n",
              "        text-align: right;\n",
              "    }\n",
              "</style>\n",
              "<table border=\"1\" class=\"dataframe\">\n",
              "  <thead>\n",
              "    <tr style=\"text-align: right;\">\n",
              "      <th></th>\n",
              "      <th>Year</th>\n",
              "      <th>Bearing acres</th>\n",
              "      <th>Trees per acre</th>\n",
              "      <th>Metric Tons</th>\n",
              "      <th>Million Lbs</th>\n",
              "      <th>Billion Lbs</th>\n",
              "      <th>Lbs. per acre</th>\n",
              "      <th>dollars</th>\n",
              "      <th>1,000 dollars</th>\n",
              "    </tr>\n",
              "  </thead>\n",
              "  <tbody>\n",
              "    <tr>\n",
              "      <th>count</th>\n",
              "      <td>34.000000</td>\n",
              "      <td>3.400000e+01</td>\n",
              "      <td>34.000000</td>\n",
              "      <td>3.400000e+01</td>\n",
              "      <td>34.000000</td>\n",
              "      <td>34.000000</td>\n",
              "      <td>34.000000</td>\n",
              "      <td>33.000000</td>\n",
              "      <td>3.300000e+01</td>\n",
              "    </tr>\n",
              "    <tr>\n",
              "      <th>mean</th>\n",
              "      <td>2003.500000</td>\n",
              "      <td>6.537647e+05</td>\n",
              "      <td>102.673529</td>\n",
              "      <td>5.652059e+05</td>\n",
              "      <td>1246.117647</td>\n",
              "      <td>1.246471</td>\n",
              "      <td>1781.176471</td>\n",
              "      <td>1.854545</td>\n",
              "      <td>2.480972e+06</td>\n",
              "    </tr>\n",
              "    <tr>\n",
              "      <th>std</th>\n",
              "      <td>9.958246</td>\n",
              "      <td>2.532944e+05</td>\n",
              "      <td>10.822208</td>\n",
              "      <td>3.258135e+05</td>\n",
              "      <td>718.089754</td>\n",
              "      <td>0.717905</td>\n",
              "      <td>427.088556</td>\n",
              "      <td>0.778215</td>\n",
              "      <td>2.133820e+06</td>\n",
              "    </tr>\n",
              "    <tr>\n",
              "      <th>min</th>\n",
              "      <td>1987.000000</td>\n",
              "      <td>4.010000e+05</td>\n",
              "      <td>84.000000</td>\n",
              "      <td>1.680000e+05</td>\n",
              "      <td>370.000000</td>\n",
              "      <td>0.370000</td>\n",
              "      <td>890.000000</td>\n",
              "      <td>0.860000</td>\n",
              "      <td>4.809300e+05</td>\n",
              "    </tr>\n",
              "    <tr>\n",
              "      <th>25%</th>\n",
              "      <td>1995.250000</td>\n",
              "      <td>4.292500e+05</td>\n",
              "      <td>93.875000</td>\n",
              "      <td>2.990000e+05</td>\n",
              "      <td>660.000000</td>\n",
              "      <td>0.660000</td>\n",
              "      <td>1445.000000</td>\n",
              "      <td>1.190000</td>\n",
              "      <td>7.035900e+05</td>\n",
              "    </tr>\n",
              "    <tr>\n",
              "      <th>50%</th>\n",
              "      <td>2003.500000</td>\n",
              "      <td>5.600000e+05</td>\n",
              "      <td>103.000000</td>\n",
              "      <td>4.640000e+05</td>\n",
              "      <td>1022.500000</td>\n",
              "      <td>1.025000</td>\n",
              "      <td>1800.000000</td>\n",
              "      <td>1.750000</td>\n",
              "      <td>1.600144e+06</td>\n",
              "    </tr>\n",
              "    <tr>\n",
              "      <th>75%</th>\n",
              "      <td>2011.750000</td>\n",
              "      <td>8.150000e+05</td>\n",
              "      <td>111.750000</td>\n",
              "      <td>8.547500e+05</td>\n",
              "      <td>1885.000000</td>\n",
              "      <td>1.885000</td>\n",
              "      <td>2152.500000</td>\n",
              "      <td>2.430000</td>\n",
              "      <td>4.007860e+06</td>\n",
              "    </tr>\n",
              "    <tr>\n",
              "      <th>max</th>\n",
              "      <td>2020.000000</td>\n",
              "      <td>1.260000e+06</td>\n",
              "      <td>122.000000</td>\n",
              "      <td>1.361000e+06</td>\n",
              "      <td>3000.000000</td>\n",
              "      <td>3.000000</td>\n",
              "      <td>2540.000000</td>\n",
              "      <td>4.000000</td>\n",
              "      <td>7.388000e+06</td>\n",
              "    </tr>\n",
              "  </tbody>\n",
              "</table>\n",
              "</div>"
            ],
            "text/plain": [
              "             Year   Bearing acres  ...    dollars  1,000 dollars\n",
              "count    34.000000   3.400000e+01  ...  33.000000   3.300000e+01\n",
              "mean   2003.500000   6.537647e+05  ...   1.854545   2.480972e+06\n",
              "std       9.958246   2.532944e+05  ...   0.778215   2.133820e+06\n",
              "min    1987.000000   4.010000e+05  ...   0.860000   4.809300e+05\n",
              "25%    1995.250000   4.292500e+05  ...   1.190000   7.035900e+05\n",
              "50%    2003.500000   5.600000e+05  ...   1.750000   1.600144e+06\n",
              "75%    2011.750000   8.150000e+05  ...   2.430000   4.007860e+06\n",
              "max    2020.000000   1.260000e+06  ...   4.000000   7.388000e+06\n",
              "\n",
              "[8 rows x 9 columns]"
            ]
          },
          "metadata": {
            "tags": []
          },
          "execution_count": 72
        }
      ]
    },
    {
      "cell_type": "code",
      "metadata": {
        "colab": {
          "base_uri": "https://localhost:8080/",
          "height": 328
        },
        "id": "mi0h864tbhYZ",
        "outputId": "bf862dd1-b6aa-4923-e411-a44bc1579c20"
      },
      "source": [
        "\r\n",
        "# Preview the correlation of the different attributes in the data\r\n",
        "corrmatrix=df.corr()\r\n",
        "corrmatrix"
      ],
      "execution_count": 73,
      "outputs": [
        {
          "output_type": "execute_result",
          "data": {
            "text/html": [
              "<div>\n",
              "<style scoped>\n",
              "    .dataframe tbody tr th:only-of-type {\n",
              "        vertical-align: middle;\n",
              "    }\n",
              "\n",
              "    .dataframe tbody tr th {\n",
              "        vertical-align: top;\n",
              "    }\n",
              "\n",
              "    .dataframe thead th {\n",
              "        text-align: right;\n",
              "    }\n",
              "</style>\n",
              "<table border=\"1\" class=\"dataframe\">\n",
              "  <thead>\n",
              "    <tr style=\"text-align: right;\">\n",
              "      <th></th>\n",
              "      <th>Year</th>\n",
              "      <th>Bearing acres</th>\n",
              "      <th>Trees per acre</th>\n",
              "      <th>Metric Tons</th>\n",
              "      <th>Million Lbs</th>\n",
              "      <th>Billion Lbs</th>\n",
              "      <th>Lbs. per acre</th>\n",
              "      <th>dollars</th>\n",
              "      <th>1,000 dollars</th>\n",
              "    </tr>\n",
              "  </thead>\n",
              "  <tbody>\n",
              "    <tr>\n",
              "      <th>Year</th>\n",
              "      <td>1.000000</td>\n",
              "      <td>0.944723</td>\n",
              "      <td>0.997197</td>\n",
              "      <td>0.935845</td>\n",
              "      <td>0.935812</td>\n",
              "      <td>0.935871</td>\n",
              "      <td>0.812251</td>\n",
              "      <td>0.698133</td>\n",
              "      <td>0.890157</td>\n",
              "    </tr>\n",
              "    <tr>\n",
              "      <th>Bearing acres</th>\n",
              "      <td>0.944723</td>\n",
              "      <td>1.000000</td>\n",
              "      <td>0.953107</td>\n",
              "      <td>0.981200</td>\n",
              "      <td>0.981156</td>\n",
              "      <td>0.981139</td>\n",
              "      <td>0.780336</td>\n",
              "      <td>0.683347</td>\n",
              "      <td>0.939780</td>\n",
              "    </tr>\n",
              "    <tr>\n",
              "      <th>Trees per acre</th>\n",
              "      <td>0.997197</td>\n",
              "      <td>0.953107</td>\n",
              "      <td>1.000000</td>\n",
              "      <td>0.940953</td>\n",
              "      <td>0.940917</td>\n",
              "      <td>0.940978</td>\n",
              "      <td>0.801496</td>\n",
              "      <td>0.692535</td>\n",
              "      <td>0.890664</td>\n",
              "    </tr>\n",
              "    <tr>\n",
              "      <th>Metric Tons</th>\n",
              "      <td>0.935845</td>\n",
              "      <td>0.981200</td>\n",
              "      <td>0.940953</td>\n",
              "      <td>1.000000</td>\n",
              "      <td>1.000000</td>\n",
              "      <td>0.999997</td>\n",
              "      <td>0.876298</td>\n",
              "      <td>0.623495</td>\n",
              "      <td>0.920908</td>\n",
              "    </tr>\n",
              "    <tr>\n",
              "      <th>Million Lbs</th>\n",
              "      <td>0.935812</td>\n",
              "      <td>0.981156</td>\n",
              "      <td>0.940917</td>\n",
              "      <td>1.000000</td>\n",
              "      <td>1.000000</td>\n",
              "      <td>0.999997</td>\n",
              "      <td>0.876422</td>\n",
              "      <td>0.623443</td>\n",
              "      <td>0.920889</td>\n",
              "    </tr>\n",
              "    <tr>\n",
              "      <th>Billion Lbs</th>\n",
              "      <td>0.935871</td>\n",
              "      <td>0.981139</td>\n",
              "      <td>0.940978</td>\n",
              "      <td>0.999997</td>\n",
              "      <td>0.999997</td>\n",
              "      <td>1.000000</td>\n",
              "      <td>0.876533</td>\n",
              "      <td>0.624113</td>\n",
              "      <td>0.921074</td>\n",
              "    </tr>\n",
              "    <tr>\n",
              "      <th>Lbs. per acre</th>\n",
              "      <td>0.812251</td>\n",
              "      <td>0.780336</td>\n",
              "      <td>0.801496</td>\n",
              "      <td>0.876298</td>\n",
              "      <td>0.876422</td>\n",
              "      <td>0.876533</td>\n",
              "      <td>1.000000</td>\n",
              "      <td>0.392964</td>\n",
              "      <td>0.723494</td>\n",
              "    </tr>\n",
              "    <tr>\n",
              "      <th>dollars</th>\n",
              "      <td>0.698133</td>\n",
              "      <td>0.683347</td>\n",
              "      <td>0.692535</td>\n",
              "      <td>0.623495</td>\n",
              "      <td>0.623443</td>\n",
              "      <td>0.624113</td>\n",
              "      <td>0.392964</td>\n",
              "      <td>1.000000</td>\n",
              "      <td>0.848337</td>\n",
              "    </tr>\n",
              "    <tr>\n",
              "      <th>1,000 dollars</th>\n",
              "      <td>0.890157</td>\n",
              "      <td>0.939780</td>\n",
              "      <td>0.890664</td>\n",
              "      <td>0.920908</td>\n",
              "      <td>0.920889</td>\n",
              "      <td>0.921074</td>\n",
              "      <td>0.723494</td>\n",
              "      <td>0.848337</td>\n",
              "      <td>1.000000</td>\n",
              "    </tr>\n",
              "  </tbody>\n",
              "</table>\n",
              "</div>"
            ],
            "text/plain": [
              "                   Year   Bearing acres  ...   dollars  1,000 dollars\n",
              "Year            1.000000       0.944723  ...  0.698133       0.890157\n",
              "Bearing acres   0.944723       1.000000  ...  0.683347       0.939780\n",
              "Trees per acre  0.997197       0.953107  ...  0.692535       0.890664\n",
              "Metric Tons     0.935845       0.981200  ...  0.623495       0.920908\n",
              "Million Lbs     0.935812       0.981156  ...  0.623443       0.920889\n",
              "Billion Lbs     0.935871       0.981139  ...  0.624113       0.921074\n",
              "Lbs. per acre   0.812251       0.780336  ...  0.392964       0.723494\n",
              "dollars         0.698133       0.683347  ...  1.000000       0.848337\n",
              "1,000 dollars   0.890157       0.939780  ...  0.848337       1.000000\n",
              "\n",
              "[9 rows x 9 columns]"
            ]
          },
          "metadata": {
            "tags": []
          },
          "execution_count": 73
        }
      ]
    },
    {
      "cell_type": "code",
      "metadata": {
        "colab": {
          "base_uri": "https://localhost:8080/"
        },
        "id": "5PBV_KhobkpO",
        "outputId": "3ba7dce7-a0de-4176-999d-62d6b3514f4b"
      },
      "source": [
        "df.info()"
      ],
      "execution_count": 74,
      "outputs": [
        {
          "output_type": "stream",
          "text": [
            "<class 'pandas.core.frame.DataFrame'>\n",
            "RangeIndex: 34 entries, 0 to 33\n",
            "Data columns (total 9 columns):\n",
            " #   Column          Non-Null Count  Dtype  \n",
            "---  ------          --------------  -----  \n",
            " 0   Year            34 non-null     int64  \n",
            " 1   Bearing acres   34 non-null     float64\n",
            " 2   Trees per acre  34 non-null     float64\n",
            " 3   Metric Tons     34 non-null     float64\n",
            " 4   Million Lbs     34 non-null     float64\n",
            " 5   Billion Lbs     34 non-null     float64\n",
            " 6   Lbs. per acre   34 non-null     float64\n",
            " 7   dollars         33 non-null     float64\n",
            " 8   1,000 dollars   33 non-null     float64\n",
            "dtypes: float64(8), int64(1)\n",
            "memory usage: 2.5 KB\n"
          ],
          "name": "stdout"
        }
      ]
    },
    {
      "cell_type": "code",
      "metadata": {
        "colab": {
          "base_uri": "https://localhost:8080/",
          "height": 1000
        },
        "id": "nheG8f0XgG8L",
        "outputId": "c9f5bdcc-0a6a-427e-d8af-e042224df34a"
      },
      "source": [
        "df.hist(bins=50, figsize=(20,15))"
      ],
      "execution_count": 81,
      "outputs": [
        {
          "output_type": "execute_result",
          "data": {
            "text/plain": [
              "array([[<matplotlib.axes._subplots.AxesSubplot object at 0x7f6bb004f128>,\n",
              "        <matplotlib.axes._subplots.AxesSubplot object at 0x7f6bb0041a90>,\n",
              "        <matplotlib.axes._subplots.AxesSubplot object at 0x7f6baffcdf60>],\n",
              "       [<matplotlib.axes._subplots.AxesSubplot object at 0x7f6baff89208>,\n",
              "        <matplotlib.axes._subplots.AxesSubplot object at 0x7f6baff38470>,\n",
              "        <matplotlib.axes._subplots.AxesSubplot object at 0x7f6bafeec6d8>],\n",
              "       [<matplotlib.axes._subplots.AxesSubplot object at 0x7f6bafe9d940>,\n",
              "        <matplotlib.axes._subplots.AxesSubplot object at 0x7f6bafecdb70>,\n",
              "        <matplotlib.axes._subplots.AxesSubplot object at 0x7f6bafecdbe0>]],\n",
              "      dtype=object)"
            ]
          },
          "metadata": {
            "tags": []
          },
          "execution_count": 81
        },
        {
          "output_type": "display_data",
          "data": {
            "image/png": "[encoded data removed]",
            "text/plain": [
              "<Figure size 1440x1080 with 9 Axes>"
            ]
          },
          "metadata": {
            "tags": [],
            "needs_background": "light"
          }
        }
      ]
    },
    {
      "cell_type": "code",
      "metadata": {
        "id": "5iqiI0azr9d1"
      },
      "source": [
        "def split"
      ],
      "execution_count": 80,
      "outputs": []
    }
  ]
}